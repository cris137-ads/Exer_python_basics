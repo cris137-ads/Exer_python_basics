{
 "cells": [
  {
   "cell_type": "markdown",
   "id": "a93efdbe-72cf-46ee-9cf4-f90516267811",
   "metadata": {},
   "source": [
    "# Exercícios: comandos \n",
    "Lista de exercícios de estruturas condicionais :IF. ELSE e elif\n",
    "treinamento de logica !"
   ]
  },
  {
   "cell_type": "markdown",
   "id": "65d36a3c-0b36-4833-92da-b2eacea1ea80",
   "metadata": {},
   "source": [
    "1. Faça um programa que receba dois números e mostre qual deles è o maior."
   ]
  },
  {
   "cell_type": "code",
   "execution_count": 16,
   "id": "725380e7-f421-4c8c-9358-39e244e1229d",
   "metadata": {},
   "outputs": [
    {
     "ename": "ValueError",
     "evalue": "invalid literal for int() with base 10: ''",
     "output_type": "error",
     "traceback": [
      "\u001b[1;31m---------------------------------------------------------------------------\u001b[0m",
      "\u001b[1;31mValueError\u001b[0m                                Traceback (most recent call last)",
      "Cell \u001b[1;32mIn[16], line 2\u001b[0m\n\u001b[0;32m      1\u001b[0m Primeiro_valor \u001b[38;5;241m=\u001b[39m \u001b[38;5;28mint\u001b[39m(\u001b[38;5;28minput\u001b[39m(\u001b[38;5;124m'\u001b[39m\u001b[38;5;124mInforme o primeiro valor :\u001b[39m\u001b[38;5;124m'\u001b[39m))\n\u001b[1;32m----> 2\u001b[0m segundo_valor \u001b[38;5;241m=\u001b[39m \u001b[38;5;28mint\u001b[39m(\u001b[38;5;28minput\u001b[39m(\u001b[38;5;124m'\u001b[39m\u001b[38;5;124mInforme o segundo  valor :\u001b[39m\u001b[38;5;124m'\u001b[39m))\n\u001b[0;32m      4\u001b[0m maior\u001b[38;5;241m=\u001b[39m\u001b[38;5;241m0\u001b[39m\n\u001b[0;32m      6\u001b[0m \u001b[38;5;28;01mif\u001b[39;00m Primeiro_valor \u001b[38;5;241m>\u001b[39m segundo_valor:\n",
      "\u001b[1;31mValueError\u001b[0m: invalid literal for int() with base 10: ''"
     ]
    }
   ],
   "source": [
    "Primeiro_valor = int(input('Informe o primeiro valor :'))\n",
    "segundo_valor = int(input('Informe o segundo  valor :'))\n",
    "\n",
    "maior=0\n",
    "\n",
    "if Primeiro_valor > segundo_valor:\n",
    "    maior= Primeiro_valor\n",
    "    print (f'O primeiro valor = {Primeiro_valor} é maior do que o segunndo valor = {segundo_valor}')\n",
    "elif segundo_valor > Primeiro_valor:\n",
    "    maior= segundo_valor\n",
    "    print (f'O segundo valor  = {segundo_valor} é maior do que o primeiro  valor = {Primeiro_valor}')\n",
    "else:\n",
    "\n",
    "   print (f'O primeiro valor {Primeiro_valor} é igual ao segundo valor {segundo_valor}')"
   ]
  },
  {
   "cell_type": "markdown",
   "id": "d0f73185",
   "metadata": {},
   "source": [
    "2. Leia um numero fornecido pelo usuário . Se o numero for positivo , calcule a raiz quadrada do numero . Se o numero for negativo , mostre a mensagem dizendo que o numero é inválido ."
   ]
  },
  {
   "cell_type": "code",
   "execution_count": null,
   "id": "55357930",
   "metadata": {},
   "outputs": [],
   "source": [
    "import math\n",
    "\n",
    "numero = int(input('Digite um numero: '))\n",
    "\n",
    "\n",
    "if numero > 0:\n",
    "    raiz_quadrada = math.sqrt (numero)\n",
    "    print (f'Raiz quandrada do numero {numero} é {raiz_quadrada}')\n",
    "else:\n",
    "    numero<=0 \n",
    "    print (f'o numero {numero} Invalido!') \n",
    "    \n"
   ]
  },
  {
   "cell_type": "code",
   "execution_count": 17,
   "id": "1329ac16",
   "metadata": {},
   "outputs": [
    {
     "name": "stdout",
     "output_type": "stream",
     "text": [
      "raiz quadrada de 4.0 é 2.0\n",
      "o quadrado de 4.0 é 25.0\n"
     ]
    }
   ],
   "source": [
    "import math\n",
    "num = float(input('digite um numero'))\n",
    "\n",
    "if num > 0:\n",
    "    raizQ= math.sqrt(num)\n",
    "    print(f'raiz quadrada de {num} é {raizQ}')\n",
    "else: quad= math.pow (num,2)\n",
    "print(f'o quadrado de {num} é {quad}') \n",
    "\n"
   ]
  }
 ],
 "metadata": {
  "kernelspec": {
   "display_name": "base",
   "language": "python",
   "name": "python3"
  },
  "language_info": {
   "codemirror_mode": {
    "name": "ipython",
    "version": 3
   },
   "file_extension": ".py",
   "mimetype": "text/x-python",
   "name": "python",
   "nbconvert_exporter": "python",
   "pygments_lexer": "ipython3",
   "version": "3.12.7"
  }
 },
 "nbformat": 4,
 "nbformat_minor": 5
}
