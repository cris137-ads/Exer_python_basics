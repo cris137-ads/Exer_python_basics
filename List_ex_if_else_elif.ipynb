{
 "cells": [
  {
   "cell_type": "markdown",
   "id": "a93efdbe-72cf-46ee-9cf4-f90516267811",
   "metadata": {},
   "source": [
    "# Exercícios: comandos \n",
    "Lista de exercícios de estruturas condicionais :IF. ELSE e elif"
   ]
  },
  {
   "cell_type": "markdown",
   "id": "65d36a3c-0b36-4833-92da-b2eacea1ea80",
   "metadata": {},
   "source": [
    "1. Faça um programa que receba dois números e mostre qual deles è o maior."
   ]
  },
  {
   "cell_type": "code",
   "execution_count": null,
   "id": "725380e7-f421-4c8c-9358-39e244e1229d",
   "metadata": {},
   "outputs": [],
   "source": [
    "Primeiro_valor = int(input('Informe o primeiro valor :'))\n",
    "segundo_valor = int(input('Informe o segundo  valor :'))\n",
    "\n",
    "maior=0\n",
    "\n",
    "if Primeiro_valor > segundo_valor:\n",
    "    maior= Primeiro_valor\n",
    "    print (f'O primeiro valor = {Primeiro_valor} é maior do que o segunndo valor = {segundo_valor}')\n",
    "elif segundo_valor > Primeiro_valor:\n",
    "    maior= segundo_valor\n",
    "    print (f'O segundo valor  = {segundo_valor} é maior do que o primeiro  valor = {Primeiro_valor}')\n",
    "else:\n",
    "\n",
    "   print (f'O primeiro valor {Primeiro_valor} é igual ao segundo valor {segundo_valor}')"
   ]
  },
  {
   "cell_type": "code",
   "execution_count": 1,
   "id": "a413f3b7-9c76-4038-a7de-9fb15e25a187",
   "metadata": {},
   "outputs": [
    {
     "name": "stdin",
     "output_type": "stream",
     "text": [
      "Informe o primeiro valor : 8\n",
      "Informe o segundo  valor : 1\n"
     ]
    },
    {
     "name": "stdout",
     "output_type": "stream",
     "text": [
      "O primeiro valor = 8 é maior do que o segunndo valor = 1\n"
     ]
    }
   ],
   "source": [
    "Primeiro_valor = int(input('Informe o primeiro valor :'))\n",
    "segundo_valor = int(input('Informe o segundo  valor :'))\n",
    "\n",
    "maior=0\n",
    "\n",
    "if Primeiro_valor > segundo_valor:\n",
    "    maior= Primeiro_valor\n",
    "    print (f'O primeiro valor = {Primeiro_valor} é maior do que o segunndo valor = {segundo_valor}')\n",
    "elif segundo_valor > Primeiro_valor:\n",
    "    maior= segundo_valor\n",
    "    print (f'O segundo valor  = {segundo_valor} é maior do que o primeiro  valor = {Primeiro_valor}')\n",
    "else:\n",
    "\n",
    "   print (f'O primeiro valor {Primeiro_valor} é igual ao segundo valor {segundo_valor}')"
   ]
  },
  {
   "cell_type": "code",
   "execution_count": null,
   "id": "558167d7-652b-4658-aceb-b90e35445f88",
   "metadata": {},
   "outputs": [],
   "source": []
  }
 ],
 "metadata": {
  "kernelspec": {
   "display_name": "Python 3 (ipykernel)",
   "language": "python",
   "name": "python3"
  },
  "language_info": {
   "codemirror_mode": {
    "name": "ipython",
    "version": 3
   },
   "file_extension": ".py",
   "mimetype": "text/x-python",
   "name": "python",
   "nbconvert_exporter": "python",
   "pygments_lexer": "ipython3",
   "version": "3.12.7"
  }
 },
 "nbformat": 4,
 "nbformat_minor": 5
}
