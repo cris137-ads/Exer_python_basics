{
 "cells": [
  {
   "cell_type": "markdown",
   "id": "a93efdbe-72cf-46ee-9cf4-f90516267811",
   "metadata": {},
   "source": [
    "# Exercícios: estrutura if_elif_else\n",
    "Lista de exercícios de estruturas condicionais :IF. ELSE e elif\n",
    "treinamento de logica !"
   ]
  },
  {
   "cell_type": "markdown",
   "id": "65d36a3c-0b36-4833-92da-b2eacea1ea80",
   "metadata": {},
   "source": [
    "1. Faça um programa que receba dois números e mostre qual deles è o maior."
   ]
  },
  {
   "cell_type": "code",
   "execution_count": 14,
   "id": "725380e7-f421-4c8c-9358-39e244e1229d",
   "metadata": {},
   "outputs": [
    {
     "name": "stdout",
     "output_type": "stream",
     "text": [
      "O primeiro valor = 15 é maior do que o segunndo valor = 0\n"
     ]
    }
   ],
   "source": [
    "Primeiro_valor = int(input('Informe o primeiro valor :'))\n",
    "segundo_valor = int(input('Informe o segundo  valor :'))\n",
    "\n",
    "maior=0\n",
    "\n",
    "if Primeiro_valor > segundo_valor:\n",
    "    maior= Primeiro_valor\n",
    "    print (f'O primeiro valor = {Primeiro_valor} é maior do que o segunndo valor = {segundo_valor}')\n",
    "elif segundo_valor > Primeiro_valor:\n",
    "    maior= segundo_valor\n",
    "    print (f'O segundo valor  = {segundo_valor} é maior do que o primeiro  valor = {Primeiro_valor}')\n",
    "else:\n",
    "\n",
    "   print (f'O primeiro valor {Primeiro_valor} é igual ao segundo valor {segundo_valor}')"
   ]
  },
  {
   "cell_type": "markdown",
   "id": "d0f73185",
   "metadata": {},
   "source": [
    "2. Leia um numero fornecido pelo usuário . Se o numero for positivo , calcule a raiz quadrada do numero . Se o numero for negativo , mostre a mensagem dizendo que o numero é inválido ."
   ]
  },
  {
   "cell_type": "code",
   "execution_count": null,
   "id": "55357930",
   "metadata": {},
   "outputs": [],
   "source": [
    "import math\n",
    "\n",
    "numero = int(input('Digite um numero: '))\n",
    "\n",
    "\n",
    "if numero > 0:\n",
    "    raiz_quadrada = math.sqrt (numero)\n",
    "    print (f'Raiz quandrada do numero {numero} é {raiz_quadrada}')\n",
    "else:\n",
    "    numero<=0 \n",
    "    print (f'o numero {numero} Invalido!') \n",
    "    \n"
   ]
  },
  {
   "cell_type": "markdown",
   "id": "aa694b26",
   "metadata": {},
   "source": [
    "3.Leia um numero real. Se  o numero  for positivo  imprima a raiz quadrada . Do contrário, imprima o quadarado ."
   ]
  },
  {
   "cell_type": "code",
   "execution_count": null,
   "id": "1329ac16",
   "metadata": {},
   "outputs": [
    {
     "name": "stdout",
     "output_type": "stream",
     "text": [
      "raiz quadrada de 4.0 é 2.0\n",
      "o quadrado de 4.0 é 25.0\n"
     ]
    }
   ],
   "source": [
    "import math\n",
    "num = float(input('digite um numero'))\n",
    "\n",
    "if num > 0:\n",
    "    raizQ= math.sqrt(num)\n",
    "    print(f'raiz quadrada de {num} é {raizQ}')\n",
    "else: quad= math.pow (num,2)\n",
    "print(f'o quadrado de {num} é {quad}') \n",
    "\n"
   ]
  },
  {
   "cell_type": "markdown",
   "id": "3eefba05",
   "metadata": {},
   "source": [
    "4.Faça um programa que leia um numero  e caso ele veja positivo ,calcule e mostre: </br>\n",
    "* O número digitado ao quaradado </br>\n",
    "* A raiz quadrada do numero \n"
   ]
  },
  {
   "cell_type": "code",
   "execution_count": null,
   "id": "67095b69",
   "metadata": {},
   "outputs": [
    {
     "name": "stdout",
     "output_type": "stream",
     "text": [
      "raiz quadrada : 9.00 e o quadrado: 6561.00\n"
     ]
    }
   ],
   "source": [
    "import math\n",
    "num = float(input('digite um numero'))\n",
    "\n",
    "if num > 0:\n",
    "    raizQ= math.sqrt(num)\n",
    "    quad= math.pow (num,2)\n",
    "    print(f'raiz quadrada : {raizQ:.2f} e o quadrado: {quad:.2f}')\n",
    "else: \n",
    "    print('O número deve ser positivo para calcular a raiz quadrada.')\n",
    "\n"
   ]
  },
  {
   "cell_type": "markdown",
   "id": "c7f837af",
   "metadata": {},
   "source": []
  },
  {
   "cell_type": "markdown",
   "id": "70f7fa77",
   "metadata": {},
   "source": [
    "5.Faça um programa que receba um numwero inteiro e verifique se este numero  é par ou impar ."
   ]
  },
  {
   "cell_type": "code",
   "execution_count": null,
   "id": "8c6c2bce",
   "metadata": {},
   "outputs": [],
   "source": [
    "num = float(input('digite um numero'))\n",
    "          \n",
    "if num %2 == 0:\n",
    "     print (f'O numero {num} é par !') \n",
    "else:\n",
    "     print(f'O numero {num} é impar!')\n",
    "     \n",
    "\n",
    "          "
   ]
  },
  {
   "cell_type": "markdown",
   "id": "e80b80e9",
   "metadata": {},
   "source": [
    "6. Escreva um programa que  dados dois numeros inteiros , mostre na tela o maior deles, assim como  a diferança entre ambos "
   ]
  },
  {
   "cell_type": "code",
   "execution_count": null,
   "id": "97b1b8ed",
   "metadata": {},
   "outputs": [
    {
     "name": "stdout",
     "output_type": "stream",
     "text": [
      "Numero  100 é maior que o numero 1 e a difernça entre eles é 99\n"
     ]
    }
   ],
   "source": [
    "num_1= int (input('Digite um numero :'))\n",
    "num_2= int (input('Digite um numero :'))\n",
    "\n",
    "maior =0\n",
    "diferenca = 0\n",
    "if num_1>num_2:\n",
    "    maior = num_1\n",
    "    diferenca = num_1-num_2\n",
    "    print(f'Numero  {num_1} é maior que o numero {num_2 } e a difernça entre eles é {diferenca}')\n",
    "else:\n",
    "    maior = num_2\n",
    "    diferanca = num_2 - num_1\n",
    "    print(f'Numero  {num_2} é maior que o numero {num_1 } e a difernça entre eles é {diferenca}')\n",
    "\n",
    "\n"
   ]
  },
  {
   "cell_type": "markdown",
   "id": "955e51d2",
   "metadata": {},
   "source": [
    "7. Faça um programa que receba dois numeros e mostre o maior . Se por acaso , os dois forem iguais ,imprima a mensagem  \"numeros iguais \"."
   ]
  },
  {
   "cell_type": "code",
   "execution_count": null,
   "id": "40df8fb6",
   "metadata": {},
   "outputs": [
    {
     "name": "stdout",
     "output_type": "stream",
     "text": [
      "NUMEROS IGUAIS!!!\n"
     ]
    }
   ],
   "source": [
    "Primeiro_valor = int(input('Informe o primeiro valor :'))\n",
    "segundo_valor = int(input('Informe o segundo  valor :'))\n",
    "\n",
    "maior=0\n",
    "\n",
    "if Primeiro_valor > segundo_valor:\n",
    "    maior= Primeiro_valor\n",
    "    print (f'O primeiro valor = {Primeiro_valor} é maior do que o segunndo valor = {segundo_valor}')\n",
    "elif segundo_valor > Primeiro_valor:\n",
    "    maior= segundo_valor\n",
    "    print (f'O segundo valor  = {segundo_valor} é maior do que o primeiro  valor = {Primeiro_valor}')\n",
    "else:\n",
    "\n",
    "   print (f'NUMEROS IGUAIS!!!')"
   ]
  },
  {
   "cell_type": "markdown",
   "id": "64b706b7",
   "metadata": {},
   "source": [
    "8.Faça um programa que leia 2 notas ,verifique se as notas são validas e exiba na tela a médias destas notas . Uma nota válida deve ser ,obrigratoriamente ,um valr entre 0,00 e 10,0,onde caso a não possua um valor válido , este fato deve ser informado ao usuario do programa  e o programa termina ."
   ]
  },
  {
   "cell_type": "code",
   "execution_count": 2,
   "id": "63fa12e2",
   "metadata": {},
   "outputs": [
    {
     "name": "stdout",
     "output_type": "stream",
     "text": [
      "média = 7.5\n"
     ]
    }
   ],
   "source": [
    "nota_1 = float (input('Digite a primwira nota'))\n",
    "nota_2 = float (input('Digite a primwira nota'))\n",
    "\n",
    "media = (nota_1 + nota_2)/2\n",
    "\n",
    "\n",
    "if media >= 0 and media <= 10:\n",
    "    print (f'média = {media}')\n",
    "else:\n",
    "    print(\"valor inválido!!!\")"
   ]
  },
  {
   "cell_type": "markdown",
   "id": "f5746da7",
   "metadata": {},
   "source": [
    "9.leia o salario de um trabalhador e o valor da prestação de um empréstimo. Se a prestação for maior que 20% do salário  imprima : Empréstimo não concedido , caso contrario imprima : em prestimo concedido ."
   ]
  },
  {
   "cell_type": "code",
   "execution_count": 5,
   "id": "20bae6a6",
   "metadata": {},
   "outputs": [
    {
     "name": "stdout",
     "output_type": "stream",
     "text": [
      "impestimo NEGADO !!\n"
     ]
    }
   ],
   "source": [
    "sal = float(input('informe o seu salario '))\n",
    "prs= float(input('Informe o valor da prestação '))\n",
    "\n",
    "if prs <= 0.2*sal:\n",
    "    print (f'Emprestimo CONCEDIDO !!')\n",
    "else :\n",
    "    print (f'impestimo NEGADO !!')\n",
    "       \n",
    "\n",
    "    \n"
   ]
  },
  {
   "cell_type": "markdown",
   "id": "5914db9f",
   "metadata": {},
   "source": [
    "10. Faça Um programa que receba a altura  e o sexo de uma pessoa  e calculer e mostre  o seu peso ideal, ultilizando as seguintes formulas :\n",
    "* Homens : (72.7 * h)-58\n",
    "* Mulheres : (62,1 * h)-44,7"
   ]
  },
  {
   "cell_type": "markdown",
   "id": "3217926b",
   "metadata": {},
   "source": []
  },
  {
   "cell_type": "code",
   "execution_count": null,
   "id": "c0dde834",
   "metadata": {},
   "outputs": [],
   "source": [
    "alt= float(input('Informe a sua altura em metros : '))\n",
    "sexo= input('Informe o seu sexo(M/F):')\n",
    "\n",
    "peso_ideal =0\n",
    "if sexo == 'M':\n",
    "    peso_ideal = 72.7*alt-58\n",
    "    print (f'seu pesos ideial ...{peso_ideal:.2f} ')\n",
    "else:   \n",
    "    sexo == 'F'\n",
    "    peso_ideal = 62.1*alt-44.7\n",
    "    print (f'seu pesos ideial ...{peso_ideal:.2f} ')\n"
   ]
  },
  {
   "cell_type": "markdown",
   "id": "1652ffeb",
   "metadata": {},
   "source": [
    "11. Faça um programa que leia um numero inteiro maior que  do que zero e devolva na tela  a soma dos de todos os algoritimos . Se o numero lido não maio for que  0  o programa terminará com a mensagem \" Numero Inválido\"."
   ]
  },
  {
   "cell_type": "code",
   "execution_count": 3,
   "id": "bcd85a8f",
   "metadata": {},
   "outputs": [
    {
     "name": "stdout",
     "output_type": "stream",
     "text": [
      "soma 8\n"
     ]
    }
   ],
   "source": [
    "num = int(input(\"Digite um numero\"))\n",
    "\n",
    "milhar = num //1000\n",
    "centena = (num % 1000) //100\n",
    "dezena = (num % 100)//10\n",
    "unidade = num % 10\n",
    "\n",
    "if num > 0:\n",
    "    soma = milhar + centena+ dezena + unidade \n",
    "    print (f'soma {soma}')\n",
    "else:\n",
    "    print (f'numero invalido!!!')    \n"
   ]
  },
  {
   "cell_type": "markdown",
   "id": "0d4670d1",
   "metadata": {},
   "source": [
    "12. Ler um numero inteiro . Se o numero lido for negativo , escreva  a mensagem \" numero invalido \". Se o numero for positivo , calcule e o logaritimo deste numero ."
   ]
  },
  {
   "cell_type": "code",
   "execution_count": 16,
   "id": "43660bea",
   "metadata": {},
   "outputs": [
    {
     "name": "stdout",
     "output_type": "stream",
     "text": [
      "O logaritimo do numero 25 é 2.0\n"
     ]
    }
   ],
   "source": [
    "# metodo_1\n",
    "import math\n",
    "num = int (input('Digite um numero :'))\n",
    "base= int (input('digite o valor da base '))\n",
    "\n",
    "if num > 0 :\n",
    "    logaritimo = math.log(num,base)\n",
    "    print(f'O logaritimo do numero {num} é {logaritimo}')\n",
    "    \n",
    "else:\n",
    "   \n",
    "    print(f'numero invalido !!! ')"
   ]
  },
  {
   "cell_type": "markdown",
   "id": "124e3903",
   "metadata": {},
   "source": [
    "13.Faça um algoritimo que calcule a média ponderada das notas de tres provas . A primeira e a segunda prova tem o peso 1\n",
    "    e a terceira prova tem o peso 2. Ao final , mostrar a media do aluno e indicar se o maluno foi aprovado ou reprovado . A nota para aprovação deve ser igual ou superior a 60 pontos.\n"
   ]
  },
  {
   "cell_type": "code",
   "execution_count": null,
   "id": "3e0a093e",
   "metadata": {},
   "outputs": [
    {
     "name": "stdout",
     "output_type": "stream",
     "text": [
      "Nota final 31.25 Reprovado!!!\n"
     ]
    }
   ],
   "source": [
    "prova_1= float(input('Dfigite o valor da nota da 1°prova :'))\n",
    "prova_2= float(input('Digite o valor da nota da 2°prova :'))\n",
    "prova_3= float(input('Digite o valor da nota da 1°prova :'))\n",
    "\n",
    "med_pond = (prova_1*1+ prova_2*1 + prova_3*2)/4\n",
    "\n",
    "if med_pond >= 60:\n",
    "    print (f'Nota final {med_pond:.2f} Aprovado!!!')\n",
    "else:\n",
    "    print (f'Nota final {med_pond:.2f} Reprovado!!!')\n",
    "\n"
   ]
  },
  {
   "cell_type": "markdown",
   "id": "47fb1359",
   "metadata": {},
   "source": [
    "14.A nota final de um estudante é calculada a partir de tres notas entre o intervalo de 0 ate 10, respectivamente , a um trabalho de laboratório , a uma avaliação semestral e a um exame final . A média das três notas mencionadas anteriormente  obedece aos pesos : trabalho de laboratório :2 avaliação semestral :3 prova final 5. De acordo com resultado , mostre na tela se o aluno está reprovado  (media entre 0 e 2,9) de recuperação (entre 3 e 4.5) ou se foi aprovado.Faça todas as verificações necessarias."
   ]
  },
  {
   "cell_type": "code",
   "execution_count": 4,
   "id": "f46b9fc5",
   "metadata": {},
   "outputs": [
    {
     "name": "stdout",
     "output_type": "stream",
     "text": [
      "Nota final :7.80 APROVADO!!!\n"
     ]
    }
   ],
   "source": [
    "N_labooratorio = float (input('Digite a nota do laabboratório '))\n",
    "N_avaliação_semestral  = float (input('Digite a nota da avaliação semestral '))\n",
    "N_avaliação_final = float (input('Digite a nota da avaliação final '))\n",
    "media  = (N_labooratorio *2 + N_avaliação_semestral*3 + N_avaliação_final*5)/10\n",
    "\n",
    "if media <= 2.9:\n",
    "    print (f'Nota final: {media:.2f} REPROVADO!!!')\n",
    "elif media >=3 and media <= 4.9:\n",
    "    print (f'Nota final: {media:.2f} Voce não conseguiu a nota minima para aprovação ! Porém pode fazer a recuperação !!!')\n",
    "else: \n",
    "    print (f'Nota final :{media:.2f} APROVADO!!!')\n",
    "\n",
    "\n",
    "    \n",
    "\n",
    "    "
   ]
  },
  {
   "cell_type": "markdown",
   "id": "1486e3b5",
   "metadata": {},
   "source": [
    "15.Escreva um programa  que leia um inteiro entre 1 e 7 e imprima o dia da semana correspodente ."
   ]
  },
  {
   "cell_type": "code",
   "execution_count": 18,
   "id": "a6170b28",
   "metadata": {},
   "outputs": [
    {
     "name": "stdout",
     "output_type": "stream",
     "text": [
      "quatra-feira\n"
     ]
    }
   ],
   "source": [
    "dia= int (input('Digite o dia da semana (1a 7)'))\n",
    "match dia :\n",
    "    case 1:\n",
    "        print('Domingo')\n",
    "    case 2:\n",
    "        print('Segunda - feira') \n",
    "    case 3:\n",
    "        print('terça _feira')       \n",
    "    case 4:\n",
    "        print('quatra-feira')    \n",
    "    case 5:\n",
    "        print('quinta feita')   \n",
    "    case 6:\n",
    "        print('Sexta-feira')\n",
    "    case 7:\n",
    "        print('sabado')\n",
    "    case _:\n",
    "        print ('Dia invalido')\n",
    "\n",
    "        "
   ]
  },
  {
   "cell_type": "markdown",
   "id": "a19347a7",
   "metadata": {},
   "source": [
    "16. Escreva um programa que leia um numero entre 1 e 12 e imprima o mês correspodente a este numero."
   ]
  },
  {
   "cell_type": "code",
   "execution_count": 24,
   "id": "63491175",
   "metadata": {},
   "outputs": [
    {
     "name": "stdout",
     "output_type": "stream",
     "text": [
      "Dia invalido\n"
     ]
    }
   ],
   "source": [
    "mes = int (input('Digite o Mês (1a 12)'))\n",
    "match mes :\n",
    "    case 1:\n",
    "        print('Janeiro')\n",
    "    case 2:\n",
    "        print('fevereiro') \n",
    "    case 3:\n",
    "        print('Março')       \n",
    "    case 4:\n",
    "        print('Abril')    \n",
    "    case 5:\n",
    "        print('Maio')   \n",
    "    case 6:\n",
    "        print('junho')\n",
    "    case 7:\n",
    "        print('Julho')\n",
    "    case 8:\n",
    "        print('Agosto') \n",
    "    case 9:\n",
    "        print('Setembro') \n",
    "    case 10:\n",
    "        print('Outubro')     \n",
    "    case 11:\n",
    "        print('Novembro')     \n",
    "    case 12:\n",
    "        print('dezembro')         \n",
    "\n",
    "    case _:\n",
    "        print ('Dia invalido')"
   ]
  },
  {
   "cell_type": "markdown",
   "id": "599a4403",
   "metadata": {},
   "source": [
    "17.Faça um programa que calcule  e mostre a área de um trapézio. Sabe-se que :\n",
    "                    A= (basemaior + base menor)* altura  /2\n",
    "\n",
    "                     \n",
    "                              \n",
    "                       "
   ]
  },
  {
   "cell_type": "markdown",
   "id": "1c51fb00",
   "metadata": {},
   "source": []
  },
  {
   "cell_type": "code",
   "execution_count": 27,
   "id": "b581aeb0",
   "metadata": {},
   "outputs": [
    {
     "name": "stdout",
     "output_type": "stream",
     "text": [
      "valores invalidos !!!\n"
     ]
    }
   ],
   "source": [
    "base_maior = float(input('Digite o valor da base maior :'))\n",
    "base_menor = float(input('Digite o valor da base maior :'))\n",
    "altura  = float(input('Digite o valor da altura  :'))\n",
    "\n",
    "if base_maior > 0 and base_menor:\n",
    "    area =(base_maior + base_menor)*altura/2\n",
    "    print (f'area do trapezio : {area:.2f}')\n",
    "else:\n",
    "    print ('valores invalidos !!!')    \n",
    "\n",
    "\n"
   ]
  },
  {
   "cell_type": "markdown",
   "id": "61e216b4",
   "metadata": {},
   "source": [
    "18. Faça um programa que mostre ao usuário um menu com 4 opções de operações matemáticas (as básica por exemplo).O usuário escolhe uma das opções de operações e o seu programa então pede dois valores numericos e realiza a operação, mostrando o resultado e saindo ."
   ]
  },
  {
   "cell_type": "code",
   "execution_count": 10,
   "id": "c6ca08a1",
   "metadata": {},
   "outputs": [
    {
     "name": "stdout",
     "output_type": "stream",
     "text": [
      "10 / 5 = 2.0\n"
     ]
    }
   ],
   "source": [
    "operacao = input ('Digite a operação desejada (+, -,*,/):')\n",
    "num1= int (input('Digite o primeiro numero :'))\n",
    "num2= int (input('Digite o primeiro numero :'))  \n",
    "\n",
    "if operacao == '+':\n",
    "    resultado = num1 + num2\n",
    "    print (f'{num1} + {num2} = {resultado}')\n",
    "elif operacao == '-':\n",
    "    resultado = num1 - num2\n",
    "    print (f'{num1} - {num2} = {resultado}')  \n",
    "elif operacao == '*':\n",
    "    resultado = num1 * num2\n",
    "    print (f'{num1} * {num2} = {resultado}')   \n",
    "elif operacao == '/':\n",
    "    resultado = num1 / num2\n",
    "    print (f'{num1} / {num2} = {resultado}')     \n",
    "else:\n",
    "    print('Opração invalida !!!')    \n",
    "\n",
    "\n",
    "\n",
    "        "
   ]
  },
  {
   "cell_type": "markdown",
   "id": "786a3fc5",
   "metadata": {},
   "source": [
    "19.Faça Um programa  para verificar se um determinado numero inteiro é divivel por 3 ou 5, mas não simultaneamente pelo dois."
   ]
  },
  {
   "cell_type": "code",
   "execution_count": 16,
   "id": "f1df266f",
   "metadata": {},
   "outputs": [
    {
     "name": "stdout",
     "output_type": "stream",
     "text": [
      "numero 7 não é divisivel por 3 ou por 5\n"
     ]
    }
   ],
   "source": [
    "num  = int(input('Digite um numero: '))\n",
    "\n",
    "if num % 3 == 0 or num % 5 == 0:\n",
    "    print(f'numero {num} é divisel por 3 ou 5')\n",
    "else:\n",
    "    print(f'numero {num} não é divisivel por 3 ou por 5')"
   ]
  },
  {
   "cell_type": "markdown",
   "id": "acf98582",
   "metadata": {},
   "source": [
    "20.Dados  três valores , A,B,C , verificar se eles podem ser valores dos lados de um triangulo e se forem ,se cada lado do triangulo é um triangulo escaleneo , equilátreo,ou isócele, considerando os  seguintes conceitos:\n",
    "* O comprimento de cada lado de um triangulo é menor do que a soma dos outros dois .\n",
    "* chama-se equilatreo o triangulo que tem tres lados iguais .\n",
    "* Denominam-se isósceles o triangulo que tem o cumprimento de dois lados iguais .\n",
    "* recebe o nome de escaleno o tringulo que tem os três lados diferente."
   ]
  },
  {
   "cell_type": "code",
   "execution_count": null,
   "id": "fea16e67",
   "metadata": {},
   "outputs": [],
   "source": [
    "lad_A = float(input('Digite o lado A do triangulo :'))\n",
    "lad_B = float(input('Digite o lado B do triangulo :'))\n",
    "lad_C = float(input('Digite o lado A do triangulo :'))\n",
    "\n",
    "if lad_A < lad_B + lad_C and lad_B < lad_A + lad_C and lad_C < lad_A + lad_B:\n",
    "    print (f'Os lados formaN um TRIANGULO !')\n",
    "    if lad_A == lad_B and lad_B == lad_C:\n",
    "        print (f'Triangulo EQUILATERO  ')\n",
    "    elif lad_A == lad_B or lad_B == lad_C or lad_A == lad_C:\n",
    "        print (f'Triangulo ISOSCELES')    \n",
    "    else:\n",
    "        print (f'Triangulo ESCALENEO')    \n",
    "else:\n",
    "    print (f'Os lados não formam um triangulo !!!')\n",
    "\n",
    "\n",
    "\n",
    "\n",
    "\n"
   ]
  },
  {
   "cell_type": "markdown",
   "id": "972a02d6",
   "metadata": {},
   "source": [
    "21. Escreva o menu de opções abaixo. Leia a opção do usuario e execute a operação escolhida . Escreva uma mensagem erro se a opção for invalida .\n",
    "* escolha a opção</br>\n",
    "1- soma de 2 números </br>\n",
    "2- Diferança entre 2 números </br>\n",
    "3- produto entre 2 numeros .</br>\n",
    "4- Divisão entre 2 numeros </br>\n",
    "*opção invalida\n"
   ]
  },
  {
   "cell_type": "markdown",
   "id": "e0ab464c",
   "metadata": {},
   "source": []
  },
  {
   "cell_type": "code",
   "execution_count": 6,
   "id": "cdfcb7ec",
   "metadata": {},
   "outputs": [
    {
     "name": "stdout",
     "output_type": "stream",
     "text": [
      "opção invalida!!!\n"
     ]
    }
   ],
   "source": [
    "num1 = float(input('Digite o 1° numero :'))\n",
    "num2 = float(input('Digite o 2° numero :'))\n",
    "\n",
    "opcao = int(input('Digite a operação desejada (1-Soma, 2-Subtração,3-Multiplicação, 4-Divisão):'))\n",
    "\n",
    "match opcao:\n",
    "    case 1:\n",
    "        resultado = num1 + num2\n",
    "        print (f'{num1} - {num2} =  {resultado}')\n",
    "    case 2:\n",
    "        resultado = num1 - num2\n",
    "        print (f'{num1} - {num2} =  {resultado}')  \n",
    "    case 3:\n",
    "        resultado = num1 * num2\n",
    "        print (f'{num1} * {num2} =  {resultado}') \n",
    "    case 4:\n",
    "        resultado = num1 / num2\n",
    "        print (f'{num1} /{num2} =  {resultado}')  \n",
    "    case _:\n",
    "        print ('opção invalida!!!')\n",
    "           \n",
    "\n"
   ]
  },
  {
   "cell_type": "markdown",
   "id": "a712e41c",
   "metadata": {},
   "source": [
    "22. Leia a idade e o tempo de serviço de um trabalhador e escreva se ele pode ou não se aposentar . As condições para aposentadoria são :\n",
    "*Ter pelo menos 65 anos \n",
    "*Ou ter trabalhado pelo menos 30 anos .\n",
    "*Ou ter pelo menos 60 anos e ter trabalhado pelo menos 25 anos ."
   ]
  },
  {
   "cell_type": "code",
   "execution_count": 10,
   "id": "025079c3",
   "metadata": {},
   "outputs": [
    {
     "name": "stdout",
     "output_type": "stream",
     "text": [
      "Não atende os rquisitos para aposentadoria !!!\n"
     ]
    }
   ],
   "source": [
    "idade = int(input('Digite a idade do trabalhaddor:'))\n",
    "tempo_servico = int(input('Digite o tempo de serviço do trabalhador :'))\n",
    "\n",
    "if idade >= 65 or tempo_servico >= 30 or (idade >= 60 and tempo_servico >= 25):\n",
    "    print ('Aposentadoria concedida !!!')\n",
    "else:\n",
    "    print ('Não atende os rquisitos para aposentadoria !!!')\n",
    "        "
   ]
  },
  {
   "cell_type": "markdown",
   "id": "1ddf6f97",
   "metadata": {},
   "source": [
    "23.Determine se um determinado ano lido é bissexto . Sendo que um ano é bixesto se for divisivel por 400 ou se for divisivel por 100."
   ]
  },
  {
   "cell_type": "code",
   "execution_count": 14,
   "id": "c8096afe",
   "metadata": {},
   "outputs": [
    {
     "name": "stdout",
     "output_type": "stream",
     "text": [
      "O ano 2025 não é bissexto\n"
     ]
    }
   ],
   "source": [
    "ano = int(input('Informe o ano :'))\n",
    "\n",
    "if ano  % 4 == 0 and (ano %100 != 0 or ano % 400 == 0):\n",
    "    print(f'O ano {ano} é bissexto')\n",
    "else:\n",
    "    print(f'O ano {ano} não é bissexto')\n",
    "        "
   ]
  },
  {
   "cell_type": "markdown",
   "id": "1ac5bfcf",
   "metadata": {},
   "source": [
    "24.Uma empresa vende o mesmo produto para quatro diferentes estados. Cada estado possui uma taxa diferente de imposto sobre o produto (MG 7%, SP 12%,RJ 15% MS 8%). fAÇA UM PROGRAMA EM QUE O USUARIO  entre com um valor  e o estado de destino do produto e o programa retorne o preço final do produto acrescido do imposto do estado em que ele será vendido . se o estado não for valido , mostrar uma mensagem de erro ."
   ]
  },
  {
   "cell_type": "code",
   "execution_count": null,
   "id": "2db22686",
   "metadata": {},
   "outputs": [],
   "source": [
    "valor = float(input('Qual o valor total da compra ?'))\n",
    "estado = input('qual o estado ? (MG,SP,RJ,MS)').upper()\n",
    "if estado == 'MG':\n",
    "    valor  = valor  + valor * 0.07\n",
    "    print (f'valor total da compra R$: {valor:.2f}')\n",
    "elif estado == 'SP':\n",
    "    valor = valor + valor *0.12\n",
    "    print (f'valor total da compra R$: {valor:.2f}')\n",
    "elif estado == 'RJ':\n",
    "    valor  = valor + valor *0.15\n",
    "    print (f'valor total da compra R$: {valor:.2f}')\n",
    "elif estado == 'MS' :\n",
    "    valor = valor + valor * 0.08\n",
    "    print (f'valor total da compra R$: {valor:.2f}')\n",
    "else:\n",
    "    print ('estado INVALIDO!!!)')              "
   ]
  },
  {
   "cell_type": "markdown",
   "id": "e254f6ec",
   "metadata": {},
   "source": [
    "25. Calcule as raizes da equação  de 2° grau  . A variavel a tem ser diferente de zero . Caso veja igual imprima a mensagem : \"não é eauação de segundo grau.\n",
    "* se delta < 0 não existe n° real . Imprima  a mensagem Não existe rais \n",
    "* se delta = 0 exixte uma rail real . Imprima raiz unica\n",
    "* se delta >= 0 imprima as duas raizes .\n"
   ]
  },
  {
   "cell_type": "code",
   "execution_count": 2,
   "id": "306ef7d8",
   "metadata": {},
   "outputs": [
    {
     "name": "stdout",
     "output_type": "stream",
     "text": [
      "raizes 1.7696898479113814 e 0.4803101520886186\n"
     ]
    }
   ],
   "source": [
    "\n",
    "import math\n",
    "a= float(input('Coeficiente A:'))\n",
    "b= float(input('Coeficiente B'))\n",
    "c= float(input('Coeficiente B'))\n",
    "\n",
    "delta = math.pow (b,2) - 4*a* c\n",
    "\n",
    "if delta < 0:\n",
    "    print ('Não existe raiz real')\n",
    "elif delta == 0:\n",
    "    x = -b/(2*a)\n",
    "    print(f'Raiz única {x}')\n",
    "else:\n",
    "    x1 = (-b + math.sqrt(delta))/(2*a)\n",
    "    x2 = (-b -math.sqrt(delta))/(2*a)\n",
    "    print (f'raizes {x1} e {x2}')\n",
    "\n",
    "\n"
   ]
  },
  {
   "cell_type": "markdown",
   "id": "a7358127",
   "metadata": {},
   "source": [
    "26. Leia um programa em km  e a quantidade de litros de gasolina consumidos por um carro em um percurso , calcule o comsumo km/l e escreva uma mensagem de acordo  com a tabela abaixo.\n",
    "* Menor que  8 venda o carro \n",
    "* entre 8 e 14 econômico\n",
    "* maior que 12 super econômico"
   ]
  },
  {
   "cell_type": "code",
   "execution_count": null,
   "id": "dc848ea7",
   "metadata": {},
   "outputs": [],
   "source": [
    "km  = float(input('Informe a distancia em km:'))\n",
    "consumo = float (input ('informe o consumo :'))\n",
    "\n",
    "km_por_litro = km/consumo\n",
    "\n",
    "if km_por_litro <= 8:\n",
    "    print (f'Comsumo {km_por_litro:.2f} RECOMENDAÇÃO: Venda esse carro !!')\n",
    "elif km_por_litro >8 and km_por_litro <=14:\n",
    "    print (f'Consumo {km_por_litro:.2f} RECOMENDAÇÃO: Carro econômico !!!')  \n",
    "else :\n",
    "    print (f'Consumo {km_por_litro:.2f} Recomendação: Carro Supr econômico !!!')\n",
    "\n"
   ]
  },
  {
   "cell_type": "markdown",
   "id": "4a95eb94",
   "metadata": {},
   "source": [
    "27. Escreva um programa que ,dada a idade de um nadador , classifique-o em uma das seguintes categorias :\n",
    "* infantil A 5 a 7\n",
    "* infanti B 8 a 10\n",
    "* juvenil A  11 a 13\n",
    "* juvenil B 14 ao 17\n",
    "* Sênior > 18\n"
   ]
  },
  {
   "cell_type": "code",
   "execution_count": null,
   "id": "049106a0",
   "metadata": {},
   "outputs": [],
   "source": [
    "idade = int(input( ' digite a idadedo nadador : '))\n",
    "\n",
    "if "
   ]
  }
 ],
 "metadata": {
  "kernelspec": {
   "display_name": "base",
   "language": "python",
   "name": "python3"
  },
  "language_info": {
   "codemirror_mode": {
    "name": "ipython",
    "version": 3
   },
   "file_extension": ".py",
   "mimetype": "text/x-python",
   "name": "python",
   "nbconvert_exporter": "python",
   "pygments_lexer": "ipython3",
   "version": "3.12.7"
  }
 },
 "nbformat": 4,
 "nbformat_minor": 5
}
