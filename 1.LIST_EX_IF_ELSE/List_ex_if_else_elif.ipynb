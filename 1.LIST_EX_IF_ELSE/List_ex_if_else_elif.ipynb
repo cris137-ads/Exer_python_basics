{
 "cells": [
  {
   "cell_type": "markdown",
   "id": "a93efdbe-72cf-46ee-9cf4-f90516267811",
   "metadata": {},
   "source": [
    "# Exercícios: estrutura if_elif_else\n",
    "Lista de exercícios de estruturas condicionais :IF. ELSE e elif\n",
    "treinamento de logica !"
   ]
  },
  {
   "cell_type": "markdown",
   "id": "65d36a3c-0b36-4833-92da-b2eacea1ea80",
   "metadata": {},
   "source": [
    "1. Faça um programa que receba dois números e mostre qual deles è o maior."
   ]
  },
  {
   "cell_type": "code",
   "execution_count": 8,
   "id": "725380e7-f421-4c8c-9358-39e244e1229d",
   "metadata": {},
   "outputs": [
    {
     "name": "stdout",
     "output_type": "stream",
     "text": [
      "O segundo valor  = 10 é maior do que o primeiro  valor = 2\n"
     ]
    }
   ],
   "source": [
    "Primeiro_valor = int(input('Informe o primeiro valor :'))\n",
    "segundo_valor = int(input('Informe o segundo  valor :'))\n",
    "\n",
    "maior=0\n",
    "\n",
    "if Primeiro_valor > segundo_valor:\n",
    "    maior= Primeiro_valor\n",
    "    print (f'O primeiro valor = {Primeiro_valor} é maior do que o segunndo valor = {segundo_valor}')\n",
    "elif segundo_valor > Primeiro_valor:\n",
    "    maior= segundo_valor\n",
    "    print (f'O segundo valor  = {segundo_valor} é maior do que o primeiro  valor = {Primeiro_valor}')\n",
    "else:\n",
    "\n",
    "   print (f'O primeiro valor {Primeiro_valor} é igual ao segundo valor {segundo_valor}')"
   ]
  },
  {
   "cell_type": "markdown",
   "id": "d0f73185",
   "metadata": {},
   "source": [
    "2. Leia um numero fornecido pelo usuário . Se o numero for positivo , calcule a raiz quadrada do numero . Se o numero for negativo , mostre a mensagem dizendo que o numero é inválido ."
   ]
  },
  {
   "cell_type": "code",
   "execution_count": 9,
   "id": "55357930",
   "metadata": {},
   "outputs": [
    {
     "name": "stdout",
     "output_type": "stream",
     "text": [
      "o numero -10 Invalido!\n"
     ]
    }
   ],
   "source": [
    "import math\n",
    "\n",
    "numero = int(input('Digite um numero: '))\n",
    "\n",
    "\n",
    "if numero > 0:\n",
    "    raiz_quadrada = math.sqrt (numero)\n",
    "    print (f'Raiz quandrada do numero {numero} é {raiz_quadrada}')\n",
    "else:\n",
    "    numero<=0 \n",
    "    print (f'o numero {numero} Invalido!') \n",
    "    \n"
   ]
  },
  {
   "cell_type": "markdown",
   "id": "aa694b26",
   "metadata": {},
   "source": [
    "3.Leia um numero real. Se  o numero  for positivo  imprima a raiz quadrada . Do contrário, imprima o quadarado ."
   ]
  },
  {
   "cell_type": "code",
   "execution_count": null,
   "id": "1329ac16",
   "metadata": {},
   "outputs": [
    {
     "name": "stdout",
     "output_type": "stream",
     "text": [
      "raiz quadrada de 4.0 é 2.0\n",
      "o quadrado de 4.0 é 25.0\n"
     ]
    }
   ],
   "source": [
    "import math\n",
    "num = float(input('digite um numero'))\n",
    "\n",
    "if num > 0:\n",
    "    raizQ= math.sqrt(num)\n",
    "    print(f'raiz quadrada de {num} é {raizQ}')\n",
    "else: quad= math.pow (num,2)\n",
    "print(f'o quadrado de {num} é {quad}') \n",
    "\n"
   ]
  },
  {
   "cell_type": "markdown",
   "id": "3eefba05",
   "metadata": {},
   "source": [
    "4.Faça um programa que leia um numero  e caso ele veja positivo ,calcule e mostre: </br>\n",
    "* O número digitado ao quaradado </br>\n",
    "* A raiz quadrada do numero \n"
   ]
  },
  {
   "cell_type": "code",
   "execution_count": 7,
   "id": "67095b69",
   "metadata": {},
   "outputs": [
    {
     "name": "stdout",
     "output_type": "stream",
     "text": [
      "raiz quadrada : 9.00 e o quadrado: 6561.00\n"
     ]
    }
   ],
   "source": [
    "import math\n",
    "num = float(input('digite um numero'))\n",
    "\n",
    "if num > 0:\n",
    "    raizQ= math.sqrt(num)\n",
    "    quad= math.pow (num,2)\n",
    "    print(f'raiz quadrada : {raizQ:.2f} e o quadrado: {quad:.2f}')\n",
    "else: \n",
    "    print('O número deve ser positivo para calcular a raiz quadrada.')\n",
    "\n"
   ]
  },
  {
   "cell_type": "markdown",
   "id": "c7f837af",
   "metadata": {},
   "source": []
  },
  {
   "cell_type": "markdown",
   "id": "70f7fa77",
   "metadata": {},
   "source": [
    "5.Faça um programa que receba um numwero inteiro e verifique se este numero  é par ou impar ."
   ]
  },
  {
   "cell_type": "code",
   "execution_count": null,
   "id": "8c6c2bce",
   "metadata": {},
   "outputs": [],
   "source": [
    "num = float(input('digite um numero'))\n",
    "          \n",
    "if num %2 == 0:\n",
    "     print (f'O numero {num} é par !') \n",
    "else:\n",
    "     print(f'O numero {num} é impar!')\n",
    "     \n",
    "\n",
    "          "
   ]
  },
  {
   "cell_type": "markdown",
   "id": "e80b80e9",
   "metadata": {},
   "source": [
    "6. Escreva um programa que  dados dois numeros inteiros , mostre na tela o maior deles, assim como  a diferança entre ambos "
   ]
  },
  {
   "cell_type": "code",
   "execution_count": 19,
   "id": "97b1b8ed",
   "metadata": {},
   "outputs": [
    {
     "name": "stdout",
     "output_type": "stream",
     "text": [
      "Numero  100 é maior que o numero 1 e a difernça entre eles é 99\n"
     ]
    }
   ],
   "source": [
    "num_1= int (input('Digite um numero :'))\n",
    "num_2= int (input('Digite um numero :'))\n",
    "\n",
    "maior =0\n",
    "diferenca = 0\n",
    "if num_1>num_2:\n",
    "    maior = num_1\n",
    "    diferenca = num_1-num_2\n",
    "    print(f'Numero  {num_1} é maior que o numero {num_2 } e a difernça entre eles é {diferenca}')\n",
    "else:\n",
    "    maior = num_2\n",
    "    diferanca = num_2 - num_1\n",
    "    print(f'Numero  {num_2} é maior que o numero {num_1 } e a difernça entre eles é {diferenca}')\n",
    "\n",
    "\n"
   ]
  }
 ],
 "metadata": {
  "kernelspec": {
   "display_name": "base",
   "language": "python",
   "name": "python3"
  },
  "language_info": {
   "codemirror_mode": {
    "name": "ipython",
    "version": 3
   },
   "file_extension": ".py",
   "mimetype": "text/x-python",
   "name": "python",
   "nbconvert_exporter": "python",
   "pygments_lexer": "ipython3",
   "version": "3.12.7"
  }
 },
 "nbformat": 4,
 "nbformat_minor": 5
}
