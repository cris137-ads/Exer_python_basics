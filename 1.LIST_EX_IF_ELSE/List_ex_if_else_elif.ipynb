{
 "cells": [
  {
   "cell_type": "markdown",
   "id": "a93efdbe-72cf-46ee-9cf4-f90516267811",
   "metadata": {},
   "source": [
    "# Exercícios: estrutura if_elif_else\n",
    "Lista de exercícios de estruturas condicionais :IF. ELSE e elif\n",
    "treinamento de logica !"
   ]
  },
  {
   "cell_type": "markdown",
   "id": "65d36a3c-0b36-4833-92da-b2eacea1ea80",
   "metadata": {},
   "source": [
    "1. Faça um programa que receba dois números e mostre qual deles è o maior."
   ]
  },
  {
   "cell_type": "code",
   "execution_count": 14,
   "id": "725380e7-f421-4c8c-9358-39e244e1229d",
   "metadata": {},
   "outputs": [
    {
     "name": "stdout",
     "output_type": "stream",
     "text": [
      "O primeiro valor = 15 é maior do que o segunndo valor = 0\n"
     ]
    }
   ],
   "source": [
    "Primeiro_valor = int(input('Informe o primeiro valor :'))\n",
    "segundo_valor = int(input('Informe o segundo  valor :'))\n",
    "\n",
    "maior=0\n",
    "\n",
    "if Primeiro_valor > segundo_valor:\n",
    "    maior= Primeiro_valor\n",
    "    print (f'O primeiro valor = {Primeiro_valor} é maior do que o segunndo valor = {segundo_valor}')\n",
    "elif segundo_valor > Primeiro_valor:\n",
    "    maior= segundo_valor\n",
    "    print (f'O segundo valor  = {segundo_valor} é maior do que o primeiro  valor = {Primeiro_valor}')\n",
    "else:\n",
    "\n",
    "   print (f'O primeiro valor {Primeiro_valor} é igual ao segundo valor {segundo_valor}')"
   ]
  },
  {
   "cell_type": "markdown",
   "id": "d0f73185",
   "metadata": {},
   "source": [
    "2. Leia um numero fornecido pelo usuário . Se o numero for positivo , calcule a raiz quadrada do numero . Se o numero for negativo , mostre a mensagem dizendo que o numero é inválido ."
   ]
  },
  {
   "cell_type": "code",
   "execution_count": null,
   "id": "55357930",
   "metadata": {},
   "outputs": [],
   "source": [
    "import math\n",
    "\n",
    "numero = int(input('Digite um numero: '))\n",
    "\n",
    "\n",
    "if numero > 0:\n",
    "    raiz_quadrada = math.sqrt (numero)\n",
    "    print (f'Raiz quandrada do numero {numero} é {raiz_quadrada}')\n",
    "else:\n",
    "    numero<=0 \n",
    "    print (f'o numero {numero} Invalido!') \n",
    "    \n"
   ]
  },
  {
   "cell_type": "markdown",
   "id": "aa694b26",
   "metadata": {},
   "source": [
    "3.Leia um numero real. Se  o numero  for positivo  imprima a raiz quadrada . Do contrário, imprima o quadarado ."
   ]
  },
  {
   "cell_type": "code",
   "execution_count": null,
   "id": "1329ac16",
   "metadata": {},
   "outputs": [
    {
     "name": "stdout",
     "output_type": "stream",
     "text": [
      "raiz quadrada de 4.0 é 2.0\n",
      "o quadrado de 4.0 é 25.0\n"
     ]
    }
   ],
   "source": [
    "import math\n",
    "num = float(input('digite um numero'))\n",
    "\n",
    "if num > 0:\n",
    "    raizQ= math.sqrt(num)\n",
    "    print(f'raiz quadrada de {num} é {raizQ}')\n",
    "else: quad= math.pow (num,2)\n",
    "print(f'o quadrado de {num} é {quad}') \n",
    "\n"
   ]
  },
  {
   "cell_type": "markdown",
   "id": "3eefba05",
   "metadata": {},
   "source": [
    "4.Faça um programa que leia um numero  e caso ele veja positivo ,calcule e mostre: </br>\n",
    "* O número digitado ao quaradado </br>\n",
    "* A raiz quadrada do numero \n"
   ]
  },
  {
   "cell_type": "code",
   "execution_count": null,
   "id": "67095b69",
   "metadata": {},
   "outputs": [
    {
     "name": "stdout",
     "output_type": "stream",
     "text": [
      "raiz quadrada : 9.00 e o quadrado: 6561.00\n"
     ]
    }
   ],
   "source": [
    "import math\n",
    "num = float(input('digite um numero'))\n",
    "\n",
    "if num > 0:\n",
    "    raizQ= math.sqrt(num)\n",
    "    quad= math.pow (num,2)\n",
    "    print(f'raiz quadrada : {raizQ:.2f} e o quadrado: {quad:.2f}')\n",
    "else: \n",
    "    print('O número deve ser positivo para calcular a raiz quadrada.')\n",
    "\n"
   ]
  },
  {
   "cell_type": "markdown",
   "id": "c7f837af",
   "metadata": {},
   "source": []
  },
  {
   "cell_type": "markdown",
   "id": "70f7fa77",
   "metadata": {},
   "source": [
    "5.Faça um programa que receba um numwero inteiro e verifique se este numero  é par ou impar ."
   ]
  },
  {
   "cell_type": "code",
   "execution_count": null,
   "id": "8c6c2bce",
   "metadata": {},
   "outputs": [],
   "source": [
    "num = float(input('digite um numero'))\n",
    "          \n",
    "if num %2 == 0:\n",
    "     print (f'O numero {num} é par !') \n",
    "else:\n",
    "     print(f'O numero {num} é impar!')\n",
    "     \n",
    "\n",
    "          "
   ]
  },
  {
   "cell_type": "markdown",
   "id": "e80b80e9",
   "metadata": {},
   "source": [
    "6. Escreva um programa que  dados dois numeros inteiros , mostre na tela o maior deles, assim como  a diferança entre ambos "
   ]
  },
  {
   "cell_type": "code",
   "execution_count": null,
   "id": "97b1b8ed",
   "metadata": {},
   "outputs": [
    {
     "name": "stdout",
     "output_type": "stream",
     "text": [
      "Numero  100 é maior que o numero 1 e a difernça entre eles é 99\n"
     ]
    }
   ],
   "source": [
    "num_1= int (input('Digite um numero :'))\n",
    "num_2= int (input('Digite um numero :'))\n",
    "\n",
    "maior =0\n",
    "diferenca = 0\n",
    "if num_1>num_2:\n",
    "    maior = num_1\n",
    "    diferenca = num_1-num_2\n",
    "    print(f'Numero  {num_1} é maior que o numero {num_2 } e a difernça entre eles é {diferenca}')\n",
    "else:\n",
    "    maior = num_2\n",
    "    diferanca = num_2 - num_1\n",
    "    print(f'Numero  {num_2} é maior que o numero {num_1 } e a difernça entre eles é {diferenca}')\n",
    "\n",
    "\n"
   ]
  },
  {
   "cell_type": "markdown",
   "id": "955e51d2",
   "metadata": {},
   "source": [
    "7. Faça um programa que receba dois numeros e mostre o maior . Se por acaso , os dois forem iguais ,imprima a mensagem  \"numeros iguais \"."
   ]
  },
  {
   "cell_type": "code",
   "execution_count": null,
   "id": "40df8fb6",
   "metadata": {},
   "outputs": [
    {
     "name": "stdout",
     "output_type": "stream",
     "text": [
      "NUMEROS IGUAIS!!!\n"
     ]
    }
   ],
   "source": [
    "Primeiro_valor = int(input('Informe o primeiro valor :'))\n",
    "segundo_valor = int(input('Informe o segundo  valor :'))\n",
    "\n",
    "maior=0\n",
    "\n",
    "if Primeiro_valor > segundo_valor:\n",
    "    maior= Primeiro_valor\n",
    "    print (f'O primeiro valor = {Primeiro_valor} é maior do que o segunndo valor = {segundo_valor}')\n",
    "elif segundo_valor > Primeiro_valor:\n",
    "    maior= segundo_valor\n",
    "    print (f'O segundo valor  = {segundo_valor} é maior do que o primeiro  valor = {Primeiro_valor}')\n",
    "else:\n",
    "\n",
    "   print (f'NUMEROS IGUAIS!!!')"
   ]
  },
  {
   "cell_type": "markdown",
   "id": "64b706b7",
   "metadata": {},
   "source": [
    "8.Faça um programa que leia 2 notas ,verifique se as notas são validas e exiba na tela a médias destas notas . Uma nota válida deve ser ,obrigratoriamente ,um valr entre 0,00 e 10,0,onde caso a não possua um valor válido , este fato deve ser informado ao usuario do programa  e o programa termina ."
   ]
  },
  {
   "cell_type": "code",
   "execution_count": 2,
   "id": "63fa12e2",
   "metadata": {},
   "outputs": [
    {
     "name": "stdout",
     "output_type": "stream",
     "text": [
      "média = 7.5\n"
     ]
    }
   ],
   "source": [
    "nota_1 = float (input('Digite a primwira nota'))\n",
    "nota_2 = float (input('Digite a primwira nota'))\n",
    "\n",
    "media = (nota_1 + nota_2)/2\n",
    "\n",
    "\n",
    "if media >= 0 and media <= 10:\n",
    "    print (f'média = {media}')\n",
    "else:\n",
    "    print(\"valor inválido!!!\")"
   ]
  },
  {
   "cell_type": "markdown",
   "id": "f5746da7",
   "metadata": {},
   "source": [
    "9.leia o salario de um trabalhador e o valor da prestação de um empréstimo. Se a prestação for maior que 20% do salário  imprima : Empréstimo não concedido , caso contrario imprima : em prestimo concedido ."
   ]
  },
  {
   "cell_type": "code",
   "execution_count": 5,
   "id": "20bae6a6",
   "metadata": {},
   "outputs": [
    {
     "name": "stdout",
     "output_type": "stream",
     "text": [
      "impestimo NEGADO !!\n"
     ]
    }
   ],
   "source": [
    "sal = float(input('informe o seu salario '))\n",
    "prs= float(input('Informe o valor da prestação '))\n",
    "\n",
    "if prs <= 0.2*sal:\n",
    "    print (f'Emprestimo CONCEDIDO !!')\n",
    "else :\n",
    "    print (f'impestimo NEGADO !!')\n",
    "       \n",
    "\n",
    "    \n"
   ]
  },
  {
   "cell_type": "markdown",
   "id": "5914db9f",
   "metadata": {},
   "source": [
    "10. Faça Um programa que receba a altura  e o sexo de uma pessoa  e calculer e mostre  o seu peso ideal, ultilizando as seguintes formulas :\n",
    "* Homens : (72.7 * h)-58\n",
    "* Mulheres : (62,1 * h)-44,7"
   ]
  },
  {
   "cell_type": "markdown",
   "id": "3217926b",
   "metadata": {},
   "source": []
  },
  {
   "cell_type": "code",
   "execution_count": null,
   "id": "c0dde834",
   "metadata": {},
   "outputs": [],
   "source": [
    "alt= float(input('Informe a sua altura em metros : '))\n",
    "sexo= input('Informe o seu sexo(M/F):')\n",
    "\n",
    "peso_ideal =0\n",
    "if sexo == 'M':\n",
    "    peso_ideal = 72.7*alt-58\n",
    "    print (f'seu pesos ideial ...{peso_ideal:.2f} ')\n",
    "else:   \n",
    "    sexo == 'F'\n",
    "    peso_ideal = 62.1*alt-44.7\n",
    "    print (f'seu pesos ideial ...{peso_ideal:.2f} ')\n"
   ]
  },
  {
   "cell_type": "markdown",
   "id": "1652ffeb",
   "metadata": {},
   "source": [
    "11. Faça um programa que leia um numero inteiro maior que  do que zero e devolva na tela  a soma dos de todos os algoritimos . Se o numero lido não maio for que  0  o programa terminará com a mensagem \" Numero Inválido\"."
   ]
  },
  {
   "cell_type": "code",
   "execution_count": 3,
   "id": "bcd85a8f",
   "metadata": {},
   "outputs": [
    {
     "name": "stdout",
     "output_type": "stream",
     "text": [
      "soma 8\n"
     ]
    }
   ],
   "source": [
    "num = int(input(\"Digite um numero\"))\n",
    "\n",
    "milhar = num //1000\n",
    "centena = (num % 1000) //100\n",
    "dezena = (num % 100)//10\n",
    "unidade = num % 10\n",
    "\n",
    "if num > 0:\n",
    "    soma = milhar + centena+ dezena + unidade \n",
    "    print (f'soma {soma}')\n",
    "else:\n",
    "    print (f'numero invalido!!!')    \n"
   ]
  },
  {
   "cell_type": "markdown",
   "id": "0d4670d1",
   "metadata": {},
   "source": [
    "12. Ler um numero inteiro . Se o numero lido for negativo , escreva  a mensagem \" numero invalido \". Se o numero for positivo , calcule e o logaritimo deste numero ."
   ]
  },
  {
   "cell_type": "code",
   "execution_count": 16,
   "id": "43660bea",
   "metadata": {},
   "outputs": [
    {
     "name": "stdout",
     "output_type": "stream",
     "text": [
      "O logaritimo do numero 25 é 2.0\n"
     ]
    }
   ],
   "source": [
    "# metodo_1\n",
    "import math\n",
    "num = int (input('Digite um numero :'))\n",
    "base= int (input('digite o valor da base '))\n",
    "\n",
    "if num > 0 :\n",
    "    logaritimo = math.log(num,base)\n",
    "    print(f'O logaritimo do numero {num} é {logaritimo}')\n",
    "    \n",
    "else:\n",
    "   \n",
    "    print(f'numero invalido !!! ')"
   ]
  },
  {
   "cell_type": "markdown",
   "id": "124e3903",
   "metadata": {},
   "source": [
    "13.Faça um algoritimo que calcule a média ponderada das notas de tres provas . A primeira e a segunda prova tem o peso 1\n",
    "    e a terceira prova tem o peso 2. Ao final , mostrar a media do aluno e indicar se o maluno foi aprovado ou reprovado . A nota para aprovação deve ser igual ou superior a 60 pontos.\n"
   ]
  },
  {
   "cell_type": "code",
   "execution_count": 18,
   "id": "3e0a093e",
   "metadata": {},
   "outputs": [
    {
     "name": "stdout",
     "output_type": "stream",
     "text": [
      "Nota final 82.50 Aprovado!!!\n"
     ]
    }
   ],
   "source": [
    "prova_1= float(input('Digite o valor da nota da 1°prova :'))\n",
    "prova_2= float(input('Digite o valor da nota da 2°prova :'))\n",
    "prova_3= float(input('Digite o valor da nota da 1°prova :'))\n",
    "\n",
    "med_pond = (prova_1*1+ prova_2*1 + prova_3*2)/4\n",
    "\n",
    "if med_pond >= 60:\n",
    "    print (f'Nota final {med_pond:.2f} Aprovado!!!')\n",
    "else:\n",
    "    print (f'Nota final {med_pond:.2f} Reprovado!!!')\n",
    "\n"
   ]
  }
 ],
 "metadata": {
  "kernelspec": {
   "display_name": "base",
   "language": "python",
   "name": "python3"
  },
  "language_info": {
   "codemirror_mode": {
    "name": "ipython",
    "version": 3
   },
   "file_extension": ".py",
   "mimetype": "text/x-python",
   "name": "python",
   "nbconvert_exporter": "python",
   "pygments_lexer": "ipython3",
   "version": "3.12.7"
  }
 },
 "nbformat": 4,
 "nbformat_minor": 5
}
